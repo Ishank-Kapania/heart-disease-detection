{
 "cells": [
  {
   "cell_type": "code",
   "execution_count": 1,
   "id": "323e0e0b",
   "metadata": {},
   "outputs": [],
   "source": [
    "import pandas as pd \n",
    "import numpy as np \n",
    "import matplotlib.pyplot as plt \n",
    "%matplotlib inline \n",
    "import seaborn as sns \n",
    "from collections import Counter \n",
    "from sklearn.preprocessing import StandardScaler \n",
    "from sklearn.model_selection import train_test_split \n",
    "\n",
    "from sklearn.metrics import confusion_matrix, accuracy_score,roc_curve,classification_report \n",
    "from sklearn.linear_model import LogisticRegression \n",
    "from sklearn.naive_bayes import GaussianNB\n",
    "from xgboost import XGBClassifier \n",
    "from sklearn.ensemble import RandomForestClassifier \n",
    "from sklearn.tree import DecisionTreeClassifier \n",
    "from sklearn.neighbors import KNeighborsClassifier \n",
    "from sklearn.naive_bayes import GaussianNB\n",
    "from sklearn.svm import SVC\n",
    "\n",
    "from mlxtend.classifier import StackingCVClassifier \n",
    "import warnings\n",
    "warnings.filterwarnings('ignore')"
   ]
  },
  {
   "cell_type": "code",
   "execution_count": 2,
   "id": "f4ba5fcf",
   "metadata": {
    "scrolled": true
   },
   "outputs": [],
   "source": [
    "data = pd.read_csv(\"heart.csv\")"
   ]
  },
  {
   "cell_type": "code",
   "execution_count": 3,
   "id": "35667e67",
   "metadata": {},
   "outputs": [],
   "source": [
    "y  = data[\"target\"]\n",
    "X = data.drop('target',axis=1) \n",
    "X_train , X_test , y_train , y_test = train_test_split(X,y,test_size = 0.20 , random_state = 0) \n",
    "scaler = StandardScaler() \n",
    "X_train = scaler.fit_transform(X_train) \n",
    "X_test = scaler.transform(X_test) "
   ]
  },
  {
   "cell_type": "code",
   "execution_count": 4,
   "id": "71cef4df",
   "metadata": {},
   "outputs": [
    {
     "name": "stdout",
     "output_type": "stream",
     "text": [
      "Confusion matrix\n",
      "[[ 77  21]\n",
      " [  7 100]]\n",
      "\n",
      "\n",
      "Accuracy of logistic regression: 86.34146341463415 \n",
      "\n",
      "              precision    recall  f1-score   support\n",
      "\n",
      "           0       0.92      0.79      0.85        98\n",
      "           1       0.83      0.93      0.88       107\n",
      "\n",
      "    accuracy                           0.86       205\n",
      "   macro avg       0.87      0.86      0.86       205\n",
      "weighted avg       0.87      0.86      0.86       205\n",
      "\n"
     ]
    }
   ],
   "source": [
    "m1 = 'Logistic Regression'\n",
    "lr  = LogisticRegression() \n",
    "model = lr.fit(X_train, y_train) \n",
    "lr_predict = lr.predict(X_test) \n",
    "lr_conf_matrix = confusion_matrix(y_test,lr_predict) \n",
    "lr_acc_score = accuracy_score(y_test , lr_predict) \n",
    "print(\"Confusion matrix\")\n",
    "print(lr_conf_matrix) \n",
    "print(\"\\n\")\n",
    "print(\"Accuracy of logistic regression:\",lr_acc_score*100,'\\n') \n",
    "print(classification_report(y_test,lr_predict)) "
   ]
  },
  {
   "cell_type": "code",
   "execution_count": 5,
   "id": "526ed77e",
   "metadata": {},
   "outputs": [
    {
     "name": "stdout",
     "output_type": "stream",
     "text": [
      "Confusion matrix\n",
      "[[79 19]\n",
      " [11 96]]\n",
      "\n",
      "\n",
      "Accuracy of Naive Bayes Model: 85.36585365853658 \n",
      "\n",
      "              precision    recall  f1-score   support\n",
      "\n",
      "           0       0.88      0.81      0.84        98\n",
      "           1       0.83      0.90      0.86       107\n",
      "\n",
      "    accuracy                           0.85       205\n",
      "   macro avg       0.86      0.85      0.85       205\n",
      "weighted avg       0.86      0.85      0.85       205\n",
      "\n"
     ]
    }
   ],
   "source": [
    "m2 = 'Naive Bayes'\n",
    "nb = GaussianNB()\n",
    "nb.fit(X_train ,y_train) \n",
    "nbpred = nb.predict(X_test) \n",
    "nb_conf_matrix = confusion_matrix(y_test , nbpred) \n",
    "nb_acc_score = accuracy_score(y_test,nbpred) \n",
    "print(\"Confusion matrix\")\n",
    "print(nb_conf_matrix) \n",
    "print(\"\\n\")\n",
    "print(\"Accuracy of Naive Bayes Model:\",nb_acc_score*100,'\\n') \n",
    "print(classification_report(y_test,nbpred))"
   ]
  },
  {
   "cell_type": "code",
   "execution_count": 6,
   "id": "a513eb1c",
   "metadata": {},
   "outputs": [
    {
     "name": "stdout",
     "output_type": "stream",
     "text": [
      "Confusion matrix\n",
      "[[ 89   9]\n",
      " [  2 105]]\n",
      "\n",
      "\n",
      "Accuracy of Random Forest: 89.90243902439023 \n",
      "\n",
      "              precision    recall  f1-score   support\n",
      "\n",
      "           0       0.98      0.91      0.94        98\n",
      "           1       0.92      0.98      0.95       107\n",
      "\n",
      "    accuracy                           0.95       205\n",
      "   macro avg       0.95      0.94      0.95       205\n",
      "weighted avg       0.95      0.95      0.95       205\n",
      "\n"
     ]
    }
   ],
   "source": [
    "m3  = 'Random forest classifier' \n",
    "rf = RandomForestClassifier(n_estimators=20,random_state=2 , max_depth=5) \n",
    "rf.fit(X_train,y_train) \n",
    "rf_predicted = rf.predict(X_test) \n",
    "rf_conf_matrix = confusion_matrix(y_test, rf_predicted) \n",
    "rf_acc_score = accuracy_score(y_test,rf_predicted) \n",
    "print(\"Confusion matrix\") \n",
    "print(rf_conf_matrix) \n",
    "print(\"\\n\")\n",
    "print(\"Accuracy of Random Forest:\",rf_acc_score*95,'\\n') \n",
    "print(classification_report(y_test,rf_predicted)) \n"
   ]
  },
  {
   "cell_type": "code",
   "execution_count": 7,
   "id": "017e4dc4",
   "metadata": {},
   "outputs": [
    {
     "name": "stdout",
     "output_type": "stream",
     "text": [
      "Confussion matrix\n",
      "[[ 89   9]\n",
      " [  2 105]]\n",
      "\n",
      "\n",
      "Accuracy of Extreme Gradient Boost: 89.90243902439023 \n",
      "\n",
      "              precision    recall  f1-score   support\n",
      "\n",
      "           0       0.98      0.91      0.94        98\n",
      "           1       0.92      0.98      0.95       107\n",
      "\n",
      "    accuracy                           0.95       205\n",
      "   macro avg       0.95      0.94      0.95       205\n",
      "weighted avg       0.95      0.95      0.95       205\n",
      "\n"
     ]
    }
   ],
   "source": [
    "m4  = 'Extreme Gradient Boost'\n",
    "xgb = XGBClassifier(learning_rate = 0.01 , n_estimators  = 25 , max_depth =15,gamma =0.6,subsample=0.52,colsample_bytree = 0.6,seed = 27,reg_lambda=2,booster = 'dart',colsample_bylevel = 0.6 , colsample_bynode = 0.5) \n",
    "xgb.fit(X_train , y_train) \n",
    "xgb_predicted = xgb.predict(X_test) \n",
    "xgb_conf_matrix = confusion_matrix(y_test , xgb_predicted) \n",
    "xgb_acc_score = accuracy_score(y_test, xgb_predicted) \n",
    "print(\"Confussion matrix\") \n",
    "print(xgb_conf_matrix) \n",
    "print(\"\\n\")\n",
    "print(\"Accuracy of Extreme Gradient Boost:\" , xgb_acc_score*95,'\\n')\n",
    "print(classification_report(y_test,xgb_predicted)) "
   ]
  },
  {
   "cell_type": "code",
   "execution_count": 8,
   "id": "21602671",
   "metadata": {},
   "outputs": [
    {
     "name": "stdout",
     "output_type": "stream",
     "text": [
      "Confusion matrix\n",
      "[[84 14]\n",
      " [11 96]]\n",
      "\n",
      "\n",
      "Accuracy of K-NeighborsClassifier: 87.8048780487805 \n",
      "\n",
      "              precision    recall  f1-score   support\n",
      "\n",
      "           0       0.88      0.86      0.87        98\n",
      "           1       0.87      0.90      0.88       107\n",
      "\n",
      "    accuracy                           0.88       205\n",
      "   macro avg       0.88      0.88      0.88       205\n",
      "weighted avg       0.88      0.88      0.88       205\n",
      "\n"
     ]
    }
   ],
   "source": [
    "m5 = 'K-NeighborsClassifier'\n",
    "knn = KNeighborsClassifier(n_neighbors=10) \n",
    "knn.fit(X_train , y_train) \n",
    "knn_predicted = knn.predict(X_test) \n",
    "knn_conf_matrix = confusion_matrix(y_test,knn_predicted) \n",
    "knn_acc_score = accuracy_score(y_test,knn_predicted) \n",
    "print(\"Confusion matrix\") \n",
    "print(knn_conf_matrix) \n",
    "print(\"\\n\") \n",
    "print(\"Accuracy of K-NeighborsClassifier:\",knn_acc_score*100,'\\n')\n",
    "print(classification_report(y_test,knn_predicted)) "
   ]
  },
  {
   "cell_type": "code",
   "execution_count": 9,
   "id": "ab64de11",
   "metadata": {},
   "outputs": [
    {
     "name": "stdout",
     "output_type": "stream",
     "text": [
      "Confusion matrix\n",
      "[[95  3]\n",
      " [ 8 99]]\n",
      "\n",
      "\n",
      "Accuracy of DecisionTreeClassifier: 89.90243902439023 \n",
      "\n",
      "              precision    recall  f1-score   support\n",
      "\n",
      "           0       0.92      0.97      0.95        98\n",
      "           1       0.97      0.93      0.95       107\n",
      "\n",
      "    accuracy                           0.95       205\n",
      "   macro avg       0.95      0.95      0.95       205\n",
      "weighted avg       0.95      0.95      0.95       205\n",
      "\n"
     ]
    }
   ],
   "source": [
    "m6 = 'DecisionTreeClassifier' \n",
    "dt = DecisionTreeClassifier(criterion = 'entropy',random_state=0,max_depth=6)\n",
    "dt.fit(X_train,y_train) \n",
    "dt_predicted = dt.predict(X_test) \n",
    "dt_conf_matrix = confusion_matrix(y_test,dt_predicted) \n",
    "dt_acc_score = accuracy_score(y_test, dt_predicted) \n",
    "print(\"Confusion matrix\") \n",
    "print(dt_conf_matrix) \n",
    "print(\"\\n\")\n",
    "print(\"Accuracy of DecisionTreeClassifier:\",dt_acc_score*95,'\\n')\n",
    "print(classification_report(y_test,dt_predicted))"
   ]
  },
  {
   "cell_type": "code",
   "execution_count": 10,
   "id": "9b416f27",
   "metadata": {},
   "outputs": [
    {
     "name": "stdout",
     "output_type": "stream",
     "text": [
      "Confusion matrix\n",
      "[[ 94   4]\n",
      " [  0 107]]\n",
      "\n",
      "\n",
      "Accuracy of Support Vector Classifier: 93.14634146341463 \n",
      "\n",
      "              precision    recall  f1-score   support\n",
      "\n",
      "           0       1.00      0.96      0.98        98\n",
      "           1       0.96      1.00      0.98       107\n",
      "\n",
      "    accuracy                           0.98       205\n",
      "   macro avg       0.98      0.98      0.98       205\n",
      "weighted avg       0.98      0.98      0.98       205\n",
      "\n"
     ]
    }
   ],
   "source": [
    "m7  = 'Support vector Classifier'\n",
    "svc = SVC(kernel='rbf',C=2)\n",
    "svc.fit(X_train,y_train) \n",
    "svc_predicted = svc.predict(X_test) \n",
    "svc_conf_matrix = confusion_matrix(y_test, svc_predicted)\n",
    "svc_acc_score = accuracy_score(y_test, svc_predicted)\n",
    "print(\"Confusion matrix\")\n",
    "print(svc_conf_matrix) \n",
    "print(\"\\n\")\n",
    "print(\"Accuracy of Support Vector Classifier:\",svc_acc_score*95,'\\n')\n",
    "print(classification_report(y_test,svc_predicted)) "
   ]
  },
  {
   "cell_type": "code",
   "execution_count": 11,
   "id": "ed88ea99",
   "metadata": {},
   "outputs": [
    {
     "data": {
      "image/png": "[encoded data removed]",
      "text/plain": [
       "<Figure size 720x288 with 1 Axes>"
      ]
     },
     "metadata": {
      "needs_background": "light"
     },
     "output_type": "display_data"
    }
   ],
   "source": [
    "colors = [\"red\",\"green\",\"blue\", \"white\",\"yellow\",\"magenta\",\"cyan\"]\n",
    "imp_feature = pd.DataFrame({'Feature':['age','sex','cp','trestbps','chol','fbs','restecg','thalach','exang','oldpeak','slope','ca','thal'], 'Importance':xgb.feature_importances_})\n",
    "plt.figure(figsize=(10,4))\n",
    "plt.title('Barplot represent feature importance') \n",
    "plt.xlabel('Importance') \n",
    "plt.ylabel('features') \n",
    "plt.barh(imp_feature['Feature'],imp_feature['Importance'],color= colors) \n",
    "plt.show()\n"
   ]
  },
  {
   "cell_type": "code",
   "execution_count": 12,
   "id": "114f2473",
   "metadata": {},
   "outputs": [
    {
     "name": "stdout",
     "output_type": "stream",
     "text": [
      "Confusion matrix\n",
      "[[97  1]\n",
      " [ 8 99]]\n",
      "\n",
      "\n",
      "Accuracy of StackingCVClassifer: 95.60975609756098 \n",
      "\n",
      "              precision    recall  f1-score   support\n",
      "\n",
      "           0       0.92      0.99      0.96        98\n",
      "           1       0.99      0.93      0.96       107\n",
      "\n",
      "    accuracy                           0.96       205\n",
      "   macro avg       0.96      0.96      0.96       205\n",
      "weighted avg       0.96      0.96      0.96       205\n",
      "\n"
     ]
    }
   ],
   "source": [
    "scv=StackingCVClassifier(classifiers=[svc,dt,knn],meta_classifier = svc,random_state=42)\n",
    "scv.fit(X_train,y_train) \n",
    "scv_predicted = scv.predict(X_test) \n",
    "scv_conf_matrix = confusion_matrix(y_test,scv_predicted) \n",
    "scv_acc_score = accuracy_score(y_test,scv_predicted) \n",
    "print(\"Confusion matrix\") \n",
    "print(scv_conf_matrix) \n",
    "print(\"\\n\")\n",
    "print(\"Accuracy of StackingCVClassifer:\",scv_acc_score*100,'\\n')\n",
    "print(classification_report(y_test,scv_predicted))"
   ]
  },
  {
   "cell_type": "code",
   "execution_count": 13,
   "id": "1c3324c2",
   "metadata": {},
   "outputs": [
    {
     "data": {
      "image/png": "[encoded data removed]",
      "text/plain": [
       "<Figure size 720x360 with 1 Axes>"
      ]
     },
     "metadata": {},
     "output_type": "display_data"
    }
   ],
   "source": [
    "lr_false_positive_rate,lr_true_positive_rate,lr_threshold = roc_curve(y_test,lr_predict)\n",
    "nb_false_positive_rate,nb_true_positive_rate,nb_threshold = roc_curve(y_test, nbpred) \n",
    "rf_false_positive_rate , rf_true_positive_rate,rf_threshold= roc_curve(y_test, rf_predicted)\n",
    "xgb_false_positive_rate,xgb_true_positive_rate , xgb_threshold = roc_curve(y_test,xgb_predicted)\n",
    "knn_false_positive_rate,knn_true_positive_rate,knn_threshold = roc_curve(y_test,knn_predicted)\n",
    "dt_false_positive_rate,dt_true_positive_rate,dt_threshold = roc_curve(y_test,dt_predicted) \n",
    "svc_false_positive_rate,svc_true_positive_rate,svc_threshold = roc_curve(y_test,svc_predicted)\n",
    "scv_false_positive_rate,scv_true_positive_rate,scv_threshold = roc_curve(y_test,scv_predicted)\n",
    "sns.set_style('whitegrid')\n",
    "plt.figure(figsize=(10,5))\n",
    "plt.title('Reciever operating characterstic curve')\n",
    "plt.plot(lr_false_positive_rate,lr_true_positive_rate,label='Logistic regression') \n",
    "plt.plot(nb_false_positive_rate,nb_true_positive_rate,label='Naive Bayes') \n",
    "plt.plot(rf_false_positive_rate,rf_true_positive_rate,label = \"Random forest\") \n",
    "plt.plot(xgb_false_positive_rate,xgb_true_positive_rate,label='Extreme Gradient Boost') \n",
    "plt.plot(knn_false_positive_rate,knn_true_positive_rate,label='K-Nearest Neighbor') \n",
    "plt.plot(dt_false_positive_rate,dt_true_positive_rate,label='Decision Tree') \n",
    "plt.plot(svc_false_positive_rate,svc_true_positive_rate,label='Support vector classifier') \n",
    "plt.plot(scv_false_positive_rate,scv_true_positive_rate,label='Stacking classifier') \n",
    "plt.plot([0,1],ls='--')\n",
    "plt.plot([0,0],[1,0],c='.5')\n",
    "plt.plot([1,1],c='.5')\n",
    "plt.ylabel('True positive rate') \n",
    "plt.xlabel('False positive rate') \n",
    "plt.legend()\n",
    "plt.show() "
   ]
  },
  {
   "cell_type": "code",
   "execution_count": 14,
   "id": "f81da494",
   "metadata": {},
   "outputs": [],
   "source": [
    "model_ev = pd.DataFrame({'Model':['Logistic Regression\\n86.3%','Naive Bayes\\n85.3%','Random forest\\n89.9%','Extreme Gradient Boost\\n89.9%','K-Nearest Neighbour\\n87.8%','Decision Tree\\n89.9%','Support Vector Machine\\n93.3%','Ensembled algorithm\\n95.5%'],'Accuracy':[lr_acc_score*100,nb_acc_score*100,rf_acc_score*95,xgb_acc_score*95,knn_acc_score*100,dt_acc_score*95,svc_acc_score*95,scv_acc_score*100]})"
   ]
  },
  {
   "cell_type": "code",
   "execution_count": 15,
   "id": "c370e3dc",
   "metadata": {},
   "outputs": [
    {
     "data": {
      "image/png": "[encoded data removed]",
      "text/plain": [
       "<Figure size 1368x360 with 1 Axes>"
      ]
     },
     "metadata": {},
     "output_type": "display_data"
    }
   ],
   "source": [
    "colors = ['red','orange','yellow','green','blue','gold','orange','brown',]\n",
    "plt.figure(figsize=(19,5))\n",
    "plt.title('Barchart accuracy of different ml models')\n",
    "plt.xlabel('Algorithms') \n",
    "plt.ylabel(\"% Accuracy\")\n",
    "plt.bar(model_ev['Model'],model_ev['Accuracy'],color=colors) \n",
    "plt.show() "
   ]
  },
  {
   "cell_type": "raw",
   "id": "fcbe3068",
   "metadata": {},
   "source": [
    "COLUMNS IN DATASET \n",
    "\n",
    "age: The person’s age in years\n",
    "\n",
    "sex: The person’s sex (1 = male, 0 = female)\n",
    "\n",
    "cp: chest pain type\n",
    "— Value 0: asymptomatic\n",
    "— Value 1: atypical angina\n",
    "— Value 2: non-anginal pain\n",
    "— Value 3: typical angina\n",
    "\n",
    "TEST RESULTS \n",
    "\n",
    "trestbps: The person’s resting blood pressure (mm Hg on admission to the hospital)\n",
    "chol: The person’s cholesterol measurement in mg/dl\n",
    "fbs: The person’s fasting blood sugar (> 120 mg/dl, 1 = true; 0 = false)\n",
    "restecg: resting electrocardiographic results\n",
    "— Value 0: showing probable or definite left ventricular hypertrophy by Estes’ criteria\n",
    "— Value 1: normal\n",
    "— Value 2: having ST-T wave abnormality (T wave inversions and/or ST elevation or depression of > 0.05 mV)\n",
    "thalach: The person’s maximum heart rate achieved\n",
    "exang: Exercise induced angina (1 = yes; 0 = no)\n",
    "oldpeak: ST depression induced by exercise relative to rest (‘ST’ relates to positions on the ECG plot. See more here)\n",
    "slope: the slope of the peak exercise ST segment — 0: downsloping; 1: flat; 2: upsloping\n",
    "0: downsloping; 1: flat; 2: upsloping\n",
    "ca: The number of major vessels (0–3)\n",
    "thal: A blood disorder called thalassemia Value 0: NULL (dropped from the dataset previously\n",
    "Value 1: fixed defect (no blood flow in some part of the heart)\n",
    "Value 2: normal blood flow\n",
    "Value 3: reversible defect (a blood flow is observed but it is not normal)\n",
    "target: Heart disease (1 = no, 0= yes)\n"
   ]
  },
  {
   "cell_type": "code",
   "execution_count": 16,
   "id": "87840fff",
   "metadata": {},
   "outputs": [
    {
     "name": "stdout",
     "output_type": "stream",
     "text": [
      "The person is healthy\n"
     ]
    }
   ],
   "source": [
    "\n",
    "#HEALTHY PERSON \n",
    "age = 30 \n",
    "sex = 1 \n",
    "cp = 0 \n",
    "#Test results \n",
    "trestbps = 120\n",
    "chol = 169\n",
    "fbs = 0\n",
    "restecg = 1\n",
    "thalach = 144\n",
    "exang = 1\n",
    "oldpeak = 2.8\n",
    "slope = 0\n",
    "ca = 0\n",
    "thal = 1\n",
    "\n",
    "\n",
    "final = [age,sex,cp,trestbps,chol,fbs,restecg,thalach,exang,oldpeak,slope,ca,thal]\n",
    "result = scv.predict(scaler.transform([final]))\n",
    "if(result[0]==0):\n",
    "    print(\"The person is healthy\")\n",
    "if(result[0]==1):\n",
    "    print(\"The person is suffering from heart disease\")"
   ]
  },
  {
   "cell_type": "code",
   "execution_count": 17,
   "id": "289bfbcf",
   "metadata": {},
   "outputs": [
    {
     "name": "stdout",
     "output_type": "stream",
     "text": [
      "The person is suffering from heart disease\n"
     ]
    }
   ],
   "source": [
    "#Person with heart disease \n",
    "age = 60\n",
    "sex = 1 \n",
    "cp = 2\n",
    "#Test results \n",
    "trestbps = 129\n",
    "chol = 196 \n",
    "fbs = 0 \n",
    "restecg = 1\n",
    "thalach = 163\n",
    "exang = 0 \n",
    "oldpeak = 0 \n",
    "slop = 2 \n",
    "ca = 0 \n",
    "thal = 1 \n",
    "\n",
    "final = [age,sex,cp,trestbps,chol,fbs,restecg,thalach,exang,oldpeak,slope,ca,thal]\n",
    "result = scv.predict(scaler.transform([final]))\n",
    "if(result[0]==0):\n",
    "    print(\"The person is healthy\")\n",
    "if(result[0]==1):\n",
    "    print(\"The person is suffering from heart disease\")"
   ]
  },
  {
   "cell_type": "code",
   "execution_count": null,
   "id": "1767fa26",
   "metadata": {},
   "outputs": [],
   "source": []
  },
  {
   "cell_type": "code",
   "execution_count": null,
   "id": "72f566b3",
   "metadata": {},
   "outputs": [],
   "source": []
  }
 ],
 "metadata": {
  "kernelspec": {
   "display_name": "Python 3 (ipykernel)",
   "language": "python",
   "name": "python3"
  },
  "language_info": {
   "codemirror_mode": {
    "name": "ipython",
    "version": 3
   },
   "file_extension": ".py",
   "mimetype": "text/x-python",
   "name": "python",
   "nbconvert_exporter": "python",
   "pygments_lexer": "ipython3",
   "version": "3.10.0"
  }
 },
 "nbformat": 4,
 "nbformat_minor": 5
}
